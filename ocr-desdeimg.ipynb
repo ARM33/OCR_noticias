{
 "cells": [
  {
   "cell_type": "markdown",
   "metadata": {},
   "source": [
    "# OCR documentos en Python"
   ]
  },
  {
   "cell_type": "markdown",
   "metadata": {},
   "source": [
    "## paso 1\n",
    "\n",
    "se deben intalar las siguientes librerias\n",
    "\n",
    "pip install opencv-python\\\n",
    "pip install pytesseract"
   ]
  },
  {
   "cell_type": "code",
   "execution_count": 44,
   "metadata": {},
   "outputs": [],
   "source": [
    "nomImg='alemania/FAZ_0411_Covidimage2'\n",
    "tipo_img='png'\n",
    "temp_dir='brazil/temp'"
   ]
  },
  {
   "cell_type": "markdown",
   "metadata": {},
   "source": [
    "español='spa'\n",
    "afr\n",
    "amh\n",
    "ara\n",
    "asm\n",
    "aze\n",
    "aze-cyrl\n",
    "bel\n",
    "ben\n",
    "bod\n",
    "bos\n",
    "bul\n",
    "cat\n",
    "ceb\n",
    "ces\n",
    "chi-sim\n",
    "chi-tra\n",
    "chr\n",
    "cym\n",
    "dan\n",
    "dan-frak\n",
    "alemania= deu\n",
    "deu-frak\n",
    "dev\n",
    "dzo\n",
    "ell\n",
    "eng\n",
    "enm\n",
    "epo\n",
    "est\n",
    "eus\n",
    "fas\n",
    "fin\n",
    "fra\n",
    "frk\n",
    "frm\n",
    "gle\n",
    "gle-uncial\n",
    "glg\n",
    "grc\n",
    "guj\n",
    "hat\n",
    "heb\n",
    "hin\n",
    "hrv\n",
    "hun\n",
    "iku\n",
    "ind\n",
    "isl\n",
    "ita\n",
    "ita-old\n",
    "jav\n",
    "jpn\n",
    "kan\n",
    "kat\n",
    "kat-old\n",
    "kaz\n",
    "khm\n",
    "kir\n",
    "koreano= kor\n",
    "kur\n",
    "lao\n",
    "lat\n",
    "lav\n",
    "lit\n",
    "mal\n",
    "mar\n",
    "mkd\n",
    "mlt\n",
    "msa\n",
    "mya\n",
    "nep\n",
    "nld\n",
    "nor\n",
    "ori\n",
    "pan\n",
    "pol\n",
    "portugues= por\n",
    "pus\n",
    "ron\n",
    "rus\n",
    "san\n",
    "sin\n",
    "slk\n",
    "slk-frak\n",
    "slv\n",
    "spa\n",
    "spa-old\n",
    "sqi\n",
    "srp\n",
    "srp-latn\n",
    "swa\n",
    "swe\n",
    "syr\n",
    "tam\n",
    "tel\n",
    "tgk\n",
    "tgl\n",
    "tha\n",
    "tir\n",
    "tur\n",
    "uig\n",
    "ukr\n",
    "urd\n",
    "uzb\n",
    "uzb-cyrl\n",
    "vie\n",
    "yid"
   ]
  },
  {
   "cell_type": "code",
   "execution_count": 45,
   "metadata": {},
   "outputs": [],
   "source": [
    "idioma='deu'"
   ]
  },
  {
   "cell_type": "markdown",
   "metadata": {},
   "source": [
    "# paso 2 \n",
    "\n",
    "preparamos la imagen para una mejor lectura vía ocr"
   ]
  },
  {
   "cell_type": "code",
   "execution_count": 46,
   "metadata": {},
   "outputs": [
    {
     "name": "stdout",
     "output_type": "stream",
     "text": [
      "alemania/FAZ_0411_Covidimage2.png\n"
     ]
    }
   ],
   "source": [
    "\n",
    "# importing modules\n",
    "import cv2\n",
    "import csv\n",
    "import pytesseract\n",
    "from pytesseract import Output\n",
    "image = cv2.imread(f'{nomImg}.{tipo_img}')\n",
    "print (f'{nomImg}.{tipo_img}')\n",
    "#converting image into gray scale image\n",
    "gray_image = cv2.cvtColor(image, cv2.COLOR_BGR2GRAY)\n",
    "# converting it to binary image by Thresholding\n",
    "# this step is require if you have colored image because if you skip this part \n",
    "# then tesseract won't able to detect text correctly and this will give incorrect result\n",
    "threshold_img = cv2.threshold(gray_image, 0, 255, cv2.THRESH_BINARY | cv2.THRESH_OTSU)[1]\n",
    "#threshold_img = cv2.adaptiveThreshold(gray_image,255,cv2.ADAPTIVE_THRESH_MEAN_C,cv2.THRESH_BINARY,11,2)\n",
    "# display image\n",
    "#cv2.imwrite(nomImg+'image.png', threshold_img)\n",
    "# Maintain output window until user presses a key\n",
    "cv2.waitKey(0)\n",
    "# Destroying present windows on screen\n",
    "cv2.destroyAllWindows()\n",
    "custom_config = r'--oem 3 --psm 6'\n",
    "# now feeding image to tesseract\n",
    "details = pytesseract.image_to_data(threshold_img, output_type=Output.DICT,  config=custom_config, lang=idioma)\n",
    "#print(details.keys())\n",
    "total_boxes = len(details['text'])\n",
    "for sequence_number in range(total_boxes):\n",
    "    if int(details['conf'][sequence_number]) >30:\n",
    "        (x, y, w, h) = (details['left'][sequence_number], details['top'][sequence_number], details['width'][sequence_number],  details['height'][sequence_number])\n",
    "        threshold_img = cv2.rectangle(threshold_img, (x, y), (x + w, y + h), (0, 255, 0), 2)\n",
    "# display image\n",
    "#cv2.imwrite(nomImg+'image2.png', threshold_img)\n",
    "# Maintain output window until user presses a key\n",
    "cv2.waitKey(0)\n",
    "# Destroying present windows on screen\n",
    "cv2.destroyAllWindows()\n",
    "parse_text = []\n",
    "word_list = []\n",
    "last_word = ''\n",
    "for word in details['text']:\n",
    "    if word!='':\n",
    "        word_list.append(word)\n",
    "        last_word = word\n",
    "    if (last_word!='' and word == '') or (word==details['text'][-1]):\n",
    "        parse_text.append(word_list)\n",
    "        word_list = []\n",
    "\n",
    "\n",
    "with open(nomImg+'.txt',  'a', newline=\"\") as file:\n",
    "    csv.writer(file, delimiter=\" \").writerows(parse_text)\n",
    "        "
   ]
  },
  {
   "cell_type": "markdown",
   "metadata": {},
   "source": [
    "#### configuramos los parametros para tesseract"
   ]
  },
  {
   "cell_type": "code",
   "execution_count": 47,
   "metadata": {},
   "outputs": [],
   "source": [
    "from pytesseract import Output"
   ]
  },
  {
   "cell_type": "code",
   "execution_count": 48,
   "metadata": {},
   "outputs": [],
   "source": [
    "\n",
    "custom_config = r'--oem 3 --psm 6'\n",
    "# now feeding image to tesseract\n",
    "details = pytesseract.image_to_data(threshold_img, output_type=Output.DICT,  config=custom_config, lang=idioma)\n",
    "#print(details.keys())"
   ]
  },
  {
   "cell_type": "code",
   "execution_count": 49,
   "metadata": {},
   "outputs": [
    {
     "name": "stdout",
     "output_type": "stream",
     "text": [
      "dict_keys(['level', 'page_num', 'block_num', 'par_num', 'line_num', 'word_num', 'left', 'top', 'width', 'height', 'conf', 'text'])\n"
     ]
    }
   ],
   "source": [
    "print(details.keys())"
   ]
  },
  {
   "cell_type": "code",
   "execution_count": 50,
   "metadata": {},
   "outputs": [],
   "source": [
    "total_boxes = len(details['text'])\n",
    "for sequence_number in range(total_boxes):\n",
    "    if int(details['conf'][sequence_number]) >30:\n",
    "        (x, y, w, h) = (details['left'][sequence_number], details['top'][sequence_number], details['width'][sequence_number],  details['height'][sequence_number])\n",
    "        threshold_img = cv2.rectangle(threshold_img, (x, y), (x + w, y + h), (0, 255, 0), 2)\n",
    "# display image\n",
    "cv2.imwrite(nomImg+'image2.png', threshold_img)\n",
    "# Maintain output window until user presses a key\n",
    "cv2.waitKey(0)\n",
    "# Destroying present windows on screen\n",
    "cv2.destroyAllWindows()\n"
   ]
  },
  {
   "cell_type": "code",
   "execution_count": 51,
   "metadata": {},
   "outputs": [],
   "source": [
    "parse_text = []\n",
    "word_list = []\n",
    "last_word = ''\n",
    "for word in details['text']:\n",
    "    if word!='':\n",
    "        word_list.append(word)\n",
    "        last_word = word\n",
    "    if (last_word!='' and word == '') or (word==details['text'][-1]):\n",
    "        parse_text.append(word_list)\n",
    "        word_list = []"
   ]
  },
  {
   "cell_type": "code",
   "execution_count": 52,
   "metadata": {},
   "outputs": [],
   "source": [
    "import csv\n",
    "with open(nomImg+'.txt',  'w', newline=\"\") as file:\n",
    "    csv.writer(file, delimiter=\" \").writerows(parse_text)"
   ]
  },
  {
   "cell_type": "code",
   "execution_count": 87,
   "metadata": {},
   "outputs": [
    {
     "ename": "IndexError",
     "evalue": "list index out of range",
     "output_type": "error",
     "traceback": [
      "\u001b[0;31m---------------------------------------------------------------------------\u001b[0m",
      "\u001b[0;31mIndexError\u001b[0m                                Traceback (most recent call last)",
      "\u001b[0;32m<ipython-input-87-b5803a1bec91>\u001b[0m in \u001b[0;36m<module>\u001b[0;34m\u001b[0m\n\u001b[0;32m----> 1\u001b[0;31m \u001b[0mprint\u001b[0m \u001b[0;34m(\u001b[0m\u001b[0mdetails\u001b[0m\u001b[0;34m[\u001b[0m\u001b[0;34m'text'\u001b[0m\u001b[0;34m]\u001b[0m\u001b[0;34m[\u001b[0m\u001b[0;36m302\u001b[0m\u001b[0;34m]\u001b[0m\u001b[0;34m)\u001b[0m\u001b[0;34m\u001b[0m\u001b[0;34m\u001b[0m\u001b[0m\n\u001b[0m",
      "\u001b[0;31mIndexError\u001b[0m: list index out of range"
     ]
    }
   ],
   "source": [
    "print (details['text'][302])"
   ]
  },
  {
   "cell_type": "code",
   "execution_count": null,
   "metadata": {},
   "outputs": [],
   "source": []
  }
 ],
 "metadata": {
  "kernelspec": {
   "display_name": "Python 3",
   "language": "python",
   "name": "python3"
  },
  "language_info": {
   "codemirror_mode": {
    "name": "ipython",
    "version": 3
   },
   "file_extension": ".py",
   "mimetype": "text/x-python",
   "name": "python",
   "nbconvert_exporter": "python",
   "pygments_lexer": "ipython3",
   "version": "3.6.9"
  }
 },
 "nbformat": 4,
 "nbformat_minor": 4
}

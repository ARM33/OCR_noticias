{
 "cells": [
  {
   "cell_type": "markdown",
   "metadata": {},
   "source": [
    "# OCR libreria comprada"
   ]
  },
  {
   "cell_type": "markdown",
   "metadata": {},
   "source": [
    "Este ocr requiere de la compra de licencia para la libreria https://ocr.space/ se require compra de licencia que nos entrega la key que es requerida archivos con múltiples columnas"
   ]
  },
  {
   "cell_type": "markdown",
   "metadata": {},
   "source": [
    "se deben definir uno de los lenguajes [Optional]\n",
    "Arabic=ara\n",
    "Bulgarian=bul\n",
    "Chinese(Simplified)=chs\n",
    "Chinese(Traditional)=cht\n",
    "Croatian = hrv\n",
    "Czech = cze\n",
    "Danish = dan\n",
    "Dutch = dut\n",
    "English = eng\n",
    "Finnish = fin\n",
    "French = fre\n",
    "German = ger\n",
    "Greek = gre\n",
    "Hungarian = hun\n",
    "Korean = kor\n",
    "Italian = ita\n",
    "Japanese = jpn\n",
    "Polish = pol\n",
    "Portuguese = por\n",
    "Russian = rus\n",
    "Slovenian = slv\n",
    "Spanish = spa\n",
    "Swedish = swe\n",
    "Turkish = tur\n",
    "\n",
    "\n",
    "insert into articulos_covid values('pais','fecha','medio','item1','item2',\n",
    "'item3','tipo','nombre','txt0','txtc','txtt')"
   ]
  },
  {
   "cell_type": "code",
   "execution_count": 32,
   "metadata": {},
   "outputs": [],
   "source": [
    "import ocrspace\n",
    "import json\n",
    "import requests\n",
    "import os\n",
    "from fnmatch import fnmatch\n",
    "import pymssql\n",
    "\n",
    "import time"
   ]
  },
  {
   "cell_type": "code",
   "execution_count": 33,
   "metadata": {},
   "outputs": [],
   "source": [
    "idioma='spa'\n",
    "pais_extraccion= 'MEXICO'\n",
    "apikey='OCRP8554898A'\n",
    "pattern = \"*.pdf\"\n",
    "tipo_documento='Archivo PDF'"
   ]
  },
  {
   "cell_type": "code",
   "execution_count": 34,
   "metadata": {},
   "outputs": [
    {
     "name": "stdout",
     "output_type": "stream",
     "text": [
      "1749\n",
      "1255\n"
     ]
    }
   ],
   "source": [
    "\n",
    "\n",
    "archivos_procesar=[]\n",
    "arreglo=[val for sublist in [[os.path.join(i[0], j) for j in i[2]] for i in os.walk('./mexico/')] for val in sublist]\n",
    "# Meta comment to ease selecting text\n",
    "for name in arreglo:\n",
    "        if fnmatch(name, pattern):\n",
    "            archivos_procesar.append(name)\n",
    "\n",
    "\n",
    "print(len(arreglo))\n",
    "print(len(archivos_procesar))"
   ]
  },
  {
   "cell_type": "code",
   "execution_count": 35,
   "metadata": {},
   "outputs": [
    {
     "name": "stdout",
     "output_type": "stream",
     "text": [
      "5\n",
      "['.', 'mexico', '2020-06-08', '1. ANIMAL POLÍTICO.COM.MX copy', 'MN-ANI-080620-AM-11A-COVID.pdf']\n"
     ]
    }
   ],
   "source": [
    "max=20\n",
    "elmaslargo=''\n",
    "for name in archivos_procesar:\n",
    "    cantidad= len(archivos_procesar[100].split(\"/\"))\n",
    "    frase= archivos_procesar[100].split(\"/\")\n",
    "    if cantidad <max:\n",
    "        max=cantidad\n",
    "        elmaslargo=frase\n",
    "print(max)\n",
    "print(elmaslargo)"
   ]
  },
  {
   "cell_type": "code",
   "execution_count": 36,
   "metadata": {},
   "outputs": [],
   "source": [
    "#api = ocrspace.API()\n",
    "# Or if you have an API key or desired language, pass those:\n",
    "#api = ocrspace.API(apikey, ocrspace.Language.Spanish)"
   ]
  },
  {
   "cell_type": "code",
   "execution_count": 37,
   "metadata": {},
   "outputs": [],
   "source": [
    "def comprime_pdf(filename):\n",
    "    arreglo=filename.split(\"/\")\n",
    "    pwd=\"/home/andresramos/ocr/\"\n",
    "    for i in range(len(arreglo)-2):\n",
    "        pwd+=  arreglo[i+1]+\"/\"\n",
    "    \n",
    "    \n",
    "    variable2=pwd+\"archivo.pdf\"\n",
    "    fila=pwd+arreglo[-1]\n",
    "    variable='gs -sDEVICE=pdfwrite -dCompatibilityLevel=1.6 -dPDFSETTINGS=/ebook -dNOPAUSE -dQUIET -dBATCH -sOutputFile=\"{}\" \"{}\"'.format(variable2,fila)\n",
    "    #print (variable)\n",
    "    os.system(variable)\n",
    "    return variable2, fila"
   ]
  },
  {
   "cell_type": "code",
   "execution_count": 38,
   "metadata": {},
   "outputs": [],
   "source": [
    "def ocr_space_file(filename, overlay=False, api_key='holamund', language='eng'):\n",
    "    \"\"\" OCR.space API request with local file.\n",
    "        Python3.5 - not tested on 2.7\n",
    "    :param filename: Your file path & name.\n",
    "    :param overlay: Is OCR.space overlay required in your response.\n",
    "                    Defaults to False.\n",
    "    :param api_key: OCR.space API key.\n",
    "                    Defaults to 'helloworld'.\n",
    "    :param language: Language code to be used in OCR.\n",
    "                    List of available language codes can be found on https://ocr.space/OCRAPI\n",
    "                    Defaults to 'en'.\n",
    "    :return: Result in JSON format.\n",
    "    \"\"\"\n",
    "\n",
    "    payload = {'isOverlayRequired': overlay,\n",
    "               'apikey': api_key,\n",
    "               'language': language,\n",
    "               'OCREngine':1\n",
    "               }\n",
    "    with open(filename, 'rb') as f:\n",
    "        r = requests.post('https://apipro1.ocr.space/parse/image',\n",
    "                          files={filename: f},\n",
    "                          data=payload,\n",
    "                          )\n",
    "    return r.content.decode()"
   ]
  },
  {
   "cell_type": "code",
   "execution_count": 39,
   "metadata": {},
   "outputs": [],
   "source": [
    "def conectar():\n",
    "    conn = pymssql.connect(\"10.50.100.40\", \"aplicaciones\", \"disico\", \"prueba_arm_3\")\n",
    "    return conn"
   ]
  },
  {
   "cell_type": "code",
   "execution_count": 40,
   "metadata": {},
   "outputs": [],
   "source": [
    "def limpia_linea(linea):\n",
    "        linea = linea.replace(\"\\n\", \" \")\n",
    "        #linea = linea.replace(\"-\", \"\")\n",
    "        linea = linea.replace(\"\\r\", \" \")\n",
    "        return linea"
   ]
  },
  {
   "cell_type": "code",
   "execution_count": 41,
   "metadata": {},
   "outputs": [],
   "source": [
    "def limpia_guion_espacio(linea):\n",
    "        linea = linea.replace(\"-  \", \"\")\n",
    "        #linea = linea.replace(\"-\", \"\")\n",
    "        return linea"
   ]
  },
  {
   "cell_type": "code",
   "execution_count": 42,
   "metadata": {},
   "outputs": [
    {
     "name": "stdout",
     "output_type": "stream",
     "text": [
      "./mexico/2020-06-08/4. EL UNIVERSAL ONLINE/DS-UNI-080620-AM-24A-Covid.pdf\n"
     ]
    }
   ],
   "source": [
    "print(archivos_procesar[0])"
   ]
  },
  {
   "cell_type": "code",
   "execution_count": 43,
   "metadata": {},
   "outputs": [],
   "source": [
    "tmp_arreglo= archivos_procesar"
   ]
  },
  {
   "cell_type": "code",
   "execution_count": 49,
   "metadata": {},
   "outputs": [
    {
     "name": "stdout",
     "output_type": "stream",
     "text": [
      "1255\n",
      "121\n"
     ]
    }
   ],
   "source": [
    "print(len(tmp_arreglo))\n",
    "\n",
    "archivos_procesar=tmp_arreglo[1134:]\n",
    "print(len(archivos_procesar))"
   ]
  },
  {
   "cell_type": "code",
   "execution_count": 50,
   "metadata": {},
   "outputs": [
    {
     "name": "stdout",
     "output_type": "stream",
     "text": [
      "{'ParsedResults': [{'TextOverlay': {'Lines': [], 'HasOverlay': False, 'Message': 'Text overlay is not provided as it is not requested'}, 'TextOrientation': '0', 'FileParseExitCode': 1, 'ParsedText': 'LA JORNADA\\r\\nSábado 11 de abril de 2020\\r\\nEST\\r\\nAutoridades:\\r\\nen el Edomex\\r\\nempleados dc\\r\\nsalud trabajan\\r\\ncon insumos\\r\\nRENÉ RAMÓN, ISRAEL DÁVILA\\r\\nY SILVIA CHÁVEZ.\\r\\nCORRLSPDNSALCS\\r\\nLa Secretaría de Salud del Estado\\r\\nde México desestimó la protesta\\r\\ny demandas de trabajadores de la\\r\\nsalud; y cstc viernes aseguró que cl\\r\\nHospital General La Perla trabaja\\r\\ncon normalidad yx»rque su perso-\\r\\nnal sí ctwnta con los insumos para\\r\\natender la emergencia nacional\\r\\nel Covid-19_ A pesar de las vi-\\r\\ndeos y la transmisión en vivo que\\r\\nel jueves hicieron los empleados en\\r\\nredes sociales, la dependencia que\\r\\nencabeza Gabriel O\\'Shea Cuevas,\\r\\nnegó el hecho\\r\\nEn las imágenes, unos 25 denun-\\r\\nciantcs llaman a atender dc inme-\\r\\ndiato sus \\'Miciones \\'N)rque no les\\r\\nquieren dar los insumos para labo-\\r\\nrar, también acusaron que los di-\\r\\nrectivos del hospital sí usan equipo\\r\\nadecuado para atender a pacientes\\r\\ncon Covid-19, pero mantienen ce-\\r\\nFradas sus áreas administrativas de\\r\\notras ranas del nosocomio.\\r\\nSin embargo, cn un comunicado,\\r\\nla delxn dencia estatal infornló que\\r\\nen perla se trabaja en orden; ase\\r\\nguró que no habido paro de labores\\r\\ny el vrrsonal que atiende a pacien-\\r\\ntes con infecciones respiratorias\\r\\ncuenta con cl equipo de prot CX ción.\\r\\nAgregó que si bien un grupo de\\r\\ntrabajadores solicitó material para\\r\\nla atención dc los usuarios, \"dicha\\r\\npetición se ha cumplido, pues es\\r\\nprioridad salvaguardar la salud de\\r\\nquicncs a diario amyan en la atem-\\r\\n', 'ErrorMessage': '', 'ErrorDetails': ''}], 'OCRExitCode': 1, 'IsErroredOnProcessing': False, 'ProcessingTimeInMilliseconds': '656', 'SearchablePDFURL': 'Searchable PDF not generated as it was not requested.'}\n"
     ]
    }
   ],
   "source": [
    "retorno= ocr_space_file(archivos_procesar[0],False, apikey,idioma)\n",
    "jsoon_data=json.loads(retorno)\n",
    "print(jsoon_data)\n",
    "texto = jsoon_data['ParsedResults'][0]['ParsedText']\n",
    "#texto2=limpia_linea(texto)"
   ]
  },
  {
   "cell_type": "code",
   "execution_count": 47,
   "metadata": {},
   "outputs": [
    {
     "name": "stdout",
     "output_type": "stream",
     "text": [
      "/home/andresramos/ocr/mexico/2020-06-08/4. EL UNIVERSAL ONLINE/DS-UNI-080620-AM-24A-Covid.pdf\n"
     ]
    }
   ],
   "source": [
    "variable2, fila=comprime_pdf(archivos_procesar[0])\n",
    "#print(\"/home/andresramos/ocr/chile/11 abril/biobio.cl/23 PM/Noticias/L790/L790.pdf\".split(\"/\"))\n",
    "print(fila)"
   ]
  },
  {
   "cell_type": "code",
   "execution_count": 51,
   "metadata": {},
   "outputs": [
    {
     "name": "stdout",
     "output_type": "stream",
     "text": [
      "0\n",
      "55\n",
      "110\n"
     ]
    }
   ],
   "source": [
    "count=0\n",
    "for fila2 in archivos_procesar:\n",
    "        variable2, fila=comprime_pdf(fila2)\n",
    "        retorno= ocr_space_file(variable2,False, apikey,idioma)\n",
    "        jsoon_data=json.loads(retorno)\n",
    "        texto = jsoon_data['ParsedResults'][0]['ParsedText']\n",
    "        texto2=limpia_linea(texto)\n",
    "        frase_fila= fila.split(\"/\")\n",
    "        pais= pais_extraccion\n",
    "        fecha= frase_fila[5]\n",
    "        medio= frase_fila[6]\n",
    "        if len(frase_fila)>=9:\n",
    "                item1= frase_fila[7]\n",
    "        else:\n",
    "            item1= 'otros'\n",
    "        if len(frase_fila)>=10:\n",
    "                item2= frase_fila[8]\n",
    "        else:\n",
    "            item2= 'otros'\n",
    "        item3= 'otros'\n",
    "        tipo=tipo_documento \n",
    "        nombre=fila.split(\"/\")[-1].split(\".\")[0]\n",
    "        txt0=limpia_linea(texto)\n",
    "        txtc= limpia_guion_espacio(txt0)\n",
    "        txtt= 'pendiente'\n",
    "        conn= conectar()\n",
    "        cursor2 = conn.cursor()\n",
    "        cursor2.executemany(\n",
    "                        \"INSERT INTO articulos_covid VALUES ( %s, %s, %s, %s, %s, %s, %s, %s, %s, %s, %s)\",\n",
    "                        [(pais,fecha,medio,item1,item2, item3,tipo,nombre,txt0,txtc,txtt)])\n",
    "                        # you must call commit() to persist your data if you don't set autocommit to True\n",
    "        conn.commit()\n",
    "        cursor2.close()\n",
    "        conn.close()\n",
    "\n",
    "        if count%55==0:\n",
    "            print(count)\n",
    "            #localtime = time.localtime()\n",
    "            #print(time.strftime(\"%I:%M:%S %p\", localtime))\n",
    "            #time.sleep(601)\n",
    "            #localtime = time.localtime()\n",
    "            #print(time.strftime(\"%I:%M:%S %p\", localtime))\n",
    "        count+=1\n",
    "  \n",
    "    "
   ]
  },
  {
   "cell_type": "code",
   "execution_count": null,
   "metadata": {},
   "outputs": [],
   "source": [
    "print (retorno)"
   ]
  },
  {
   "cell_type": "code",
   "execution_count": null,
   "metadata": {},
   "outputs": [],
   "source": []
  },
  {
   "cell_type": "code",
   "execution_count": null,
   "metadata": {},
   "outputs": [],
   "source": [
    "texto3=limpia_guion_espacio(texto2)"
   ]
  },
  {
   "cell_type": "code",
   "execution_count": null,
   "metadata": {},
   "outputs": [],
   "source": []
  },
  {
   "cell_type": "code",
   "execution_count": null,
   "metadata": {},
   "outputs": [],
   "source": [
    "print (texto3)"
   ]
  },
  {
   "cell_type": "code",
   "execution_count": null,
   "metadata": {},
   "outputs": [],
   "source": []
  }
 ],
 "metadata": {
  "kernelspec": {
   "display_name": "Python 3",
   "language": "python",
   "name": "python3"
  },
  "language_info": {
   "codemirror_mode": {
    "name": "ipython",
    "version": 3
   },
   "file_extension": ".py",
   "mimetype": "text/x-python",
   "name": "python",
   "nbconvert_exporter": "python",
   "pygments_lexer": "ipython3",
   "version": "3.6.9"
  }
 },
 "nbformat": 4,
 "nbformat_minor": 4
}
